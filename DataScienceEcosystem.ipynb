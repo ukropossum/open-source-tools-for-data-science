{
 "cells": [
  {
   "cell_type": "markdown",
   "id": "616d3721-95d6-4dfd-814a-c1f67c10e53b",
   "metadata": {},
   "source": [
    "<h1>Data Science Tools and Ecosystem</h1>"
   ]
  },
  {
   "cell_type": "markdown",
   "id": "5aeffd12-5ecb-4f94-a30f-ad4c5cb02eec",
   "metadata": {},
   "source": [
    "In this notebook, Data Science Tools and Ecosystem are summarized."
   ]
  },
  {
   "cell_type": "markdown",
   "id": "b293343d-3dd5-462d-8a5d-3c4e61cc72d6",
   "metadata": {},
   "source": [
    "Some of the popular languages that Data Scientists use are:\n",
    "\n",
    "1. **Python:** Widely adopted for its simplicity and extensive libraries, Python is a go-to language for data manipulation, analysis, and machine learning.\n",
    "\n",
    "2. **R:** Known for its statistical capabilities, R is commonly used in academia and research for data analysis and visualization.\n",
    "\n",
    "3. **SQL:** Essential for database querying, SQL is crucial in data science for accessing, managing, and manipulating structured data.\n",
    "\n",
    "4. **Julia:** Gaining popularity for its speed and performance, Julia is used for high-performance numerical and scientific computing in data science.\n",
    "\n",
    "5. **Scala:** Often used in combination with Apache Spark, Scala is employed for distributed data processing and analysis in big data environments.\n"
   ]
  },
  {
   "cell_type": "markdown",
   "id": "917ab844-07a6-46c3-9fd3-d514f6fafd5e",
   "metadata": {},
   "source": [
    "**Objectives:**\n",
    "\n",
    "- **List Crucial Programming Languages for Data Science:**\n",
    "\n",
    "    - **Python:** Widely adopted for its simplicity and extensive libraries, Python is a go-to language for data manipulation, analysis, and machine learning.\n",
    "  \n",
    "    - **R:** Known for its statistical capabilities, R is commonly used in academia and research for data analysis and visualization.\n",
    "  \n",
    "    - **SQL:** Essential for database querying, SQL is crucial in data science for accessing, managing, and manipulating structured data.\n"
   ]
  },
  {
   "cell_type": "markdown",
   "id": "b202a5ed-051e-4117-8db9-9e8009c24741",
   "metadata": {},
   "source": [
    "Some of the commonly used libraries used by Data Scientists include:\n",
    "\n",
    "1. **NumPy:** A fundamental library for numerical computing in Python, NumPy provides support for large, multi-dimensional arrays and matrices, along with mathematical functions to operate on these arrays.\n",
    "\n",
    "2. **Pandas:** Built on top of NumPy, Pandas offers high-performance, easy-to-use data structures and data analysis tools for manipulating and analyzing structured data, such as tables and time series.\n",
    "\n",
    "3. **Scikit-learn:** An open-source machine learning library for Python, Scikit-learn provides simple and efficient tools for data mining and data analysis. It includes various algorithms for classification, regression, clustering, and more.\n",
    "\n",
    "4. **Matplotlib:** A widely used 2D plotting library in Python, Matplotlib facilitates the creation of static, interactive, and animated visualizations in data science.\n",
    "\n",
    "5. **TensorFlow and PyTorch:** These deep learning frameworks are crucial for building and training neural networks, enabling data scientists to work on complex tasks like image recognition, natural language processing, and more.\n"
   ]
  },
  {
   "cell_type": "markdown",
   "id": "3806737b-1e4d-4ce4-9ffe-0e7a5060b9aa",
   "metadata": {},
   "source": [
    "| Data Science Tools    |\n",
    "|-----------------------|\n",
    "| Jupyter Notebooks     |\n",
    "| RStudio               |\n",
    "| VS Code with Extensions|\n"
   ]
  },
  {
   "cell_type": "markdown",
   "id": "354950af-c2ef-4747-8306-3aacec049350",
   "metadata": {},
   "source": [
    "## Evaluating Arithmetic Expressions in Python\n",
    "\n",
    "Below are a few examples of how to evaluate arithmetic expressions in Python, using both built-in operators and mathematical functions:\n",
    "\n",
    "### Basic Arithmetic Operations\n",
    "\n",
    "```python\n",
    "# Addition\n",
    "result = 2 + 3\n",
    "print(result)  # Output: 5\n",
    "\n",
    "# Subtraction\n",
    "result = 10 - 4\n",
    "print(result)  # Output: 6\n",
    "\n",
    "# Multiplication\n",
    "result = 3 * 5\n",
    "print(result)  # Output: 15\n",
    "\n",
    "# Division\n",
    "result = 12 / 4\n",
    "print(result)  # Output: 3.0 (float)\n",
    "\n",
    "# Integer division (floor division)\n",
    "result = 12 // 4\n",
    "print(result)  # Output: 3\n",
    "\n",
    "# Exponentiation\n",
    "result = 2 ** 3\n",
    "print(result)  # Output: 8\n"
   ]
  },
  {
   "cell_type": "code",
   "execution_count": 1,
   "id": "b5b11151-2ab1-4d2c-ba59-e980eeb8911a",
   "metadata": {
    "tags": []
   },
   "outputs": [
    {
     "name": "stdout",
     "output_type": "stream",
     "text": [
      "17\n"
     ]
    }
   ],
   "source": [
    "# This is a simple arithmetic expression to multiply then add integers.\n",
    "result = (3 * 4) + 5\n",
    "print(result)  # Output: 17"
   ]
  },
  {
   "cell_type": "code",
   "execution_count": 2,
   "id": "dd93953e-9413-4c24-b8c2-4f6e0d6da04a",
   "metadata": {
    "tags": []
   },
   "outputs": [
    {
     "name": "stdout",
     "output_type": "stream",
     "text": [
      "3.3333333333333335\n"
     ]
    }
   ],
   "source": [
    "# This will convert 200 minutes to hours by dividing by 60.\n",
    "minutes = 200\n",
    "hours = minutes / 60\n",
    "print(hours)  # Output: 3.3333333333333335\n"
   ]
  },
  {
   "cell_type": "markdown",
   "id": "0540056a-0a52-4ea6-b5ef-9fc72e0f8d57",
   "metadata": {},
   "source": [
    "## Author\n",
    "Oleksandr Bazdyriev\n"
   ]
  }
 ],
 "metadata": {
  "kernelspec": {
   "display_name": "Python 3 (ipykernel)",
   "language": "python",
   "name": "python3"
  },
  "language_info": {
   "codemirror_mode": {
    "name": "ipython",
    "version": 3
   },
   "file_extension": ".py",
   "mimetype": "text/x-python",
   "name": "python",
   "nbconvert_exporter": "python",
   "pygments_lexer": "ipython3",
   "version": "3.11.5"
  }
 },
 "nbformat": 4,
 "nbformat_minor": 5
}
